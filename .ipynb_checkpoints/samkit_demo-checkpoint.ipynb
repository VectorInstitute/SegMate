{
 "cells": [
  {
   "cell_type": "code",
   "execution_count": 1,
   "id": "71145132",
   "metadata": {},
   "outputs": [],
   "source": [
    "from samkit import SAMkit"
   ]
  },
  {
   "cell_type": "code",
   "execution_count": 2,
   "id": "292a12d3",
   "metadata": {},
   "outputs": [],
   "source": [
    "sk = SAMkit(model_type='vit_b', checkpoint='../sam_vit_b_01ec64.pth', device='cuda')"
   ]
  },
  {
   "cell_type": "code",
   "execution_count": 3,
   "id": "c0a7b5d1",
   "metadata": {},
   "outputs": [],
   "source": [
    "image = sk.load_image(image='images/building.png')"
   ]
  },
  {
   "cell_type": "code",
   "execution_count": 4,
   "id": "53adda0b",
   "metadata": {},
   "outputs": [
    {
     "data": {
      "text/plain": [
       "(500, 500, 3)"
      ]
     },
     "execution_count": 4,
     "metadata": {},
     "output_type": "execute_result"
    }
   ],
   "source": [
    "image.shape"
   ]
  },
  {
   "cell_type": "code",
   "execution_count": 5,
   "id": "2d1e4433",
   "metadata": {},
   "outputs": [
    {
     "ename": "AttributeError",
     "evalue": "'SAMkit' object has no attribute 'show_image'",
     "output_type": "error",
     "traceback": [
      "\u001b[0;31m---------------------------------------------------------------------------\u001b[0m",
      "\u001b[0;31mAttributeError\u001b[0m                            Traceback (most recent call last)",
      "Cell \u001b[0;32mIn[5], line 1\u001b[0m\n\u001b[0;32m----> 1\u001b[0m \u001b[43msk\u001b[49m\u001b[38;5;241;43m.\u001b[39;49m\u001b[43mshow_image\u001b[49m(image)\n",
      "\u001b[0;31mAttributeError\u001b[0m: 'SAMkit' object has no attribute 'show_image'"
     ]
    }
   ],
   "source": [
    "sk.show_image(image)"
   ]
  },
  {
   "cell_type": "code",
   "execution_count": null,
   "id": "79455d3f",
   "metadata": {},
   "outputs": [],
   "source": []
  },
  {
   "cell_type": "code",
   "execution_count": null,
   "id": "b6f8f44d",
   "metadata": {},
   "outputs": [],
   "source": []
  },
  {
   "cell_type": "code",
   "execution_count": null,
   "id": "3295d44e",
   "metadata": {},
   "outputs": [],
   "source": []
  }
 ],
 "metadata": {
  "kernelspec": {
   "display_name": "sam",
   "language": "python",
   "name": "sam"
  },
  "language_info": {
   "codemirror_mode": {
    "name": "ipython",
    "version": 3
   },
   "file_extension": ".py",
   "mimetype": "text/x-python",
   "name": "python",
   "nbconvert_exporter": "python",
   "pygments_lexer": "ipython3",
   "version": "3.9.16"
  }
 },
 "nbformat": 4,
 "nbformat_minor": 5
}
